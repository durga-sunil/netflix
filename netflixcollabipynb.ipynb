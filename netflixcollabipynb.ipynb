{
  "nbformat": 4,
  "nbformat_minor": 0,
  "metadata": {
    "colab": {
      "provenance": []
    },
    "kernelspec": {
      "name": "python3",
      "display_name": "Python 3"
    },
    "language_info": {
      "name": "python"
    }
  },
  "cells": [
    {
      "cell_type": "code",
      "execution_count": 1,
      "metadata": {
        "id": "_5Bqa446FuyN"
      },
      "outputs": [],
      "source": [
        "import pandas as pd\n",
        "import numpy as np\n"
      ]
    },
    {
      "cell_type": "code",
      "metadata": {
        "colab": {
          "base_uri": "https://localhost:8080/",
          "height": 90
        },
        "id": "1d46cbd4",
        "outputId": "0671b8c6-7603-4bea-80d0-87342b5c8637"
      },
      "source": [
        "from google.colab import files\n",
        "\n",
        "uploaded = files.upload()\n",
        "\n",
        "for fn in uploaded.keys():\n",
        "  print('User uploaded file \"{name}\" with length {length} bytes'.format(\n",
        "      name=fn, length=len(uploaded[fn])))"
      ],
      "execution_count": 9,
      "outputs": [
        {
          "output_type": "display_data",
          "data": {
            "text/plain": [
              "<IPython.core.display.HTML object>"
            ],
            "text/html": [
              "\n",
              "     <input type=\"file\" id=\"files-b2953c82-ea70-432d-976a-1914f70fbf89\" name=\"files[]\" multiple disabled\n",
              "        style=\"border:none\" />\n",
              "     <output id=\"result-b2953c82-ea70-432d-976a-1914f70fbf89\">\n",
              "      Upload widget is only available when the cell has been executed in the\n",
              "      current browser session. Please rerun this cell to enable.\n",
              "      </output>\n",
              "      <script>// Copyright 2017 Google LLC\n",
              "//\n",
              "// Licensed under the Apache License, Version 2.0 (the \"License\");\n",
              "// you may not use this file except in compliance with the License.\n",
              "// You may obtain a copy of the License at\n",
              "//\n",
              "//      http://www.apache.org/licenses/LICENSE-2.0\n",
              "//\n",
              "// Unless required by applicable law or agreed to in writing, software\n",
              "// distributed under the License is distributed on an \"AS IS\" BASIS,\n",
              "// WITHOUT WARRANTIES OR CONDITIONS OF ANY KIND, either express or implied.\n",
              "// See the License for the specific language governing permissions and\n",
              "// limitations under the License.\n",
              "\n",
              "/**\n",
              " * @fileoverview Helpers for google.colab Python module.\n",
              " */\n",
              "(function(scope) {\n",
              "function span(text, styleAttributes = {}) {\n",
              "  const element = document.createElement('span');\n",
              "  element.textContent = text;\n",
              "  for (const key of Object.keys(styleAttributes)) {\n",
              "    element.style[key] = styleAttributes[key];\n",
              "  }\n",
              "  return element;\n",
              "}\n",
              "\n",
              "// Max number of bytes which will be uploaded at a time.\n",
              "const MAX_PAYLOAD_SIZE = 100 * 1024;\n",
              "\n",
              "function _uploadFiles(inputId, outputId) {\n",
              "  const steps = uploadFilesStep(inputId, outputId);\n",
              "  const outputElement = document.getElementById(outputId);\n",
              "  // Cache steps on the outputElement to make it available for the next call\n",
              "  // to uploadFilesContinue from Python.\n",
              "  outputElement.steps = steps;\n",
              "\n",
              "  return _uploadFilesContinue(outputId);\n",
              "}\n",
              "\n",
              "// This is roughly an async generator (not supported in the browser yet),\n",
              "// where there are multiple asynchronous steps and the Python side is going\n",
              "// to poll for completion of each step.\n",
              "// This uses a Promise to block the python side on completion of each step,\n",
              "// then passes the result of the previous step as the input to the next step.\n",
              "function _uploadFilesContinue(outputId) {\n",
              "  const outputElement = document.getElementById(outputId);\n",
              "  const steps = outputElement.steps;\n",
              "\n",
              "  const next = steps.next(outputElement.lastPromiseValue);\n",
              "  return Promise.resolve(next.value.promise).then((value) => {\n",
              "    // Cache the last promise value to make it available to the next\n",
              "    // step of the generator.\n",
              "    outputElement.lastPromiseValue = value;\n",
              "    return next.value.response;\n",
              "  });\n",
              "}\n",
              "\n",
              "/**\n",
              " * Generator function which is called between each async step of the upload\n",
              " * process.\n",
              " * @param {string} inputId Element ID of the input file picker element.\n",
              " * @param {string} outputId Element ID of the output display.\n",
              " * @return {!Iterable<!Object>} Iterable of next steps.\n",
              " */\n",
              "function* uploadFilesStep(inputId, outputId) {\n",
              "  const inputElement = document.getElementById(inputId);\n",
              "  inputElement.disabled = false;\n",
              "\n",
              "  const outputElement = document.getElementById(outputId);\n",
              "  outputElement.innerHTML = '';\n",
              "\n",
              "  const pickedPromise = new Promise((resolve) => {\n",
              "    inputElement.addEventListener('change', (e) => {\n",
              "      resolve(e.target.files);\n",
              "    });\n",
              "  });\n",
              "\n",
              "  const cancel = document.createElement('button');\n",
              "  inputElement.parentElement.appendChild(cancel);\n",
              "  cancel.textContent = 'Cancel upload';\n",
              "  const cancelPromise = new Promise((resolve) => {\n",
              "    cancel.onclick = () => {\n",
              "      resolve(null);\n",
              "    };\n",
              "  });\n",
              "\n",
              "  // Wait for the user to pick the files.\n",
              "  const files = yield {\n",
              "    promise: Promise.race([pickedPromise, cancelPromise]),\n",
              "    response: {\n",
              "      action: 'starting',\n",
              "    }\n",
              "  };\n",
              "\n",
              "  cancel.remove();\n",
              "\n",
              "  // Disable the input element since further picks are not allowed.\n",
              "  inputElement.disabled = true;\n",
              "\n",
              "  if (!files) {\n",
              "    return {\n",
              "      response: {\n",
              "        action: 'complete',\n",
              "      }\n",
              "    };\n",
              "  }\n",
              "\n",
              "  for (const file of files) {\n",
              "    const li = document.createElement('li');\n",
              "    li.append(span(file.name, {fontWeight: 'bold'}));\n",
              "    li.append(span(\n",
              "        `(${file.type || 'n/a'}) - ${file.size} bytes, ` +\n",
              "        `last modified: ${\n",
              "            file.lastModifiedDate ? file.lastModifiedDate.toLocaleDateString() :\n",
              "                                    'n/a'} - `));\n",
              "    const percent = span('0% done');\n",
              "    li.appendChild(percent);\n",
              "\n",
              "    outputElement.appendChild(li);\n",
              "\n",
              "    const fileDataPromise = new Promise((resolve) => {\n",
              "      const reader = new FileReader();\n",
              "      reader.onload = (e) => {\n",
              "        resolve(e.target.result);\n",
              "      };\n",
              "      reader.readAsArrayBuffer(file);\n",
              "    });\n",
              "    // Wait for the data to be ready.\n",
              "    let fileData = yield {\n",
              "      promise: fileDataPromise,\n",
              "      response: {\n",
              "        action: 'continue',\n",
              "      }\n",
              "    };\n",
              "\n",
              "    // Use a chunked sending to avoid message size limits. See b/62115660.\n",
              "    let position = 0;\n",
              "    do {\n",
              "      const length = Math.min(fileData.byteLength - position, MAX_PAYLOAD_SIZE);\n",
              "      const chunk = new Uint8Array(fileData, position, length);\n",
              "      position += length;\n",
              "\n",
              "      const base64 = btoa(String.fromCharCode.apply(null, chunk));\n",
              "      yield {\n",
              "        response: {\n",
              "          action: 'append',\n",
              "          file: file.name,\n",
              "          data: base64,\n",
              "        },\n",
              "      };\n",
              "\n",
              "      let percentDone = fileData.byteLength === 0 ?\n",
              "          100 :\n",
              "          Math.round((position / fileData.byteLength) * 100);\n",
              "      percent.textContent = `${percentDone}% done`;\n",
              "\n",
              "    } while (position < fileData.byteLength);\n",
              "  }\n",
              "\n",
              "  // All done.\n",
              "  yield {\n",
              "    response: {\n",
              "      action: 'complete',\n",
              "    }\n",
              "  };\n",
              "}\n",
              "\n",
              "scope.google = scope.google || {};\n",
              "scope.google.colab = scope.google.colab || {};\n",
              "scope.google.colab._files = {\n",
              "  _uploadFiles,\n",
              "  _uploadFilesContinue,\n",
              "};\n",
              "})(self);\n",
              "</script> "
            ]
          },
          "metadata": {}
        },
        {
          "output_type": "stream",
          "name": "stdout",
          "text": [
            "Saving partpdf_1758712161434_netflix_titles.xlsx to partpdf_1758712161434_netflix_titles.xlsx\n",
            "User uploaded file \"partpdf_1758712161434_netflix_titles.xlsx\" with length 2394444 bytes\n"
          ]
        }
      ]
    },
    {
      "cell_type": "markdown",
      "metadata": {
        "id": "0d961c4f"
      },
      "source": [
        "Once the file is uploaded, you can modify the code to read it from the Colab environment:"
      ]
    },
    {
      "cell_type": "code",
      "metadata": {
        "id": "ccea7aaf"
      },
      "source": [
        "# Replace 'your_uploaded_filename.xlsx' with the actual name of the file you uploaded\n",
        "file_path = \"/content/partpdf_1758712161434_netflix_titles.xlsx\"\n",
        "sheets = pd.read_excel(file_path, sheet_name=None)"
      ],
      "execution_count": 10,
      "outputs": []
    },
    {
      "cell_type": "code",
      "source": [
        "df_titles = sheets['netflix_titles']\n",
        "df_cast = sheets['netflix_titles_directors']\n",
        "df_crew = sheets['netflix_titles_countries']\n",
        "df_genres = sheets['netflix_titles_cast']\n",
        "df_ratings = sheets['netflix_titles_category']"
      ],
      "metadata": {
        "id": "zMknfbsmJhea"
      },
      "execution_count": 13,
      "outputs": []
    },
    {
      "cell_type": "code",
      "source": [
        "df_master = df_titles\n",
        "df_master = df_master.merge(df_cast, on='show_id', how='left')\n",
        "df_master = df_master.merge(df_crew, on='show_id', how='left')\n",
        "df_master = df_master.merge(df_genres, on='show_id', how='left')\n",
        "df_master = df_master.merge(df_ratings, on='show_id', how='left')\n"
      ],
      "metadata": {
        "id": "6ocigwLvKJIT"
      },
      "execution_count": 14,
      "outputs": []
    },
    {
      "cell_type": "code",
      "source": [
        "df_master.head()"
      ],
      "metadata": {
        "colab": {
          "base_uri": "https://localhost:8080/",
          "height": 380
        },
        "id": "xZIIbeA2Kecz",
        "outputId": "976a9f24-c9f5-4c73-a733-b588c525fbb1"
      },
      "execution_count": 15,
      "outputs": [
        {
          "output_type": "execute_result",
          "data": {
            "text/plain": [
              "  duration_minutes duration_seasons   type  \\\n",
              "0               90              NaN  Movie   \n",
              "1               90              NaN  Movie   \n",
              "2               90              NaN  Movie   \n",
              "3               90              NaN  Movie   \n",
              "4               90              NaN  Movie   \n",
              "\n",
              "                                     title           date_added  release_year  \\\n",
              "0  Norm of the North: King Sized Adventure  2019-09-09 00:00:00        2019.0   \n",
              "1  Norm of the North: King Sized Adventure  2019-09-09 00:00:00        2019.0   \n",
              "2  Norm of the North: King Sized Adventure  2019-09-09 00:00:00        2019.0   \n",
              "3  Norm of the North: King Sized Adventure  2019-09-09 00:00:00        2019.0   \n",
              "4  Norm of the North: King Sized Adventure  2019-09-09 00:00:00        2019.0   \n",
              "\n",
              "  rating                                        description     show_id  \\\n",
              "0  TV-PG  Before planning an awesome wedding for his gra...  81145628.0   \n",
              "1  TV-PG  Before planning an awesome wedding for his gra...  81145628.0   \n",
              "2  TV-PG  Before planning an awesome wedding for his gra...  81145628.0   \n",
              "3  TV-PG  Before planning an awesome wedding for his gra...  81145628.0   \n",
              "4  TV-PG  Before planning an awesome wedding for his gra...  81145628.0   \n",
              "\n",
              "       director        country              cast                 listed_in  \n",
              "0  Richard Finn  United States     Alan Marriott  Children & Family Movies  \n",
              "1  Richard Finn  United States     Alan Marriott                  Comedies  \n",
              "2  Richard Finn  United States  Jennifer Cameron  Children & Family Movies  \n",
              "3  Richard Finn  United States  Jennifer Cameron                  Comedies  \n",
              "4  Richard Finn  United States        Lee Tockar  Children & Family Movies  "
            ],
            "text/html": [
              "\n",
              "  <div id=\"df-b83fd8d7-c518-4c11-9850-6291660ad25b\" class=\"colab-df-container\">\n",
              "    <div>\n",
              "<style scoped>\n",
              "    .dataframe tbody tr th:only-of-type {\n",
              "        vertical-align: middle;\n",
              "    }\n",
              "\n",
              "    .dataframe tbody tr th {\n",
              "        vertical-align: top;\n",
              "    }\n",
              "\n",
              "    .dataframe thead th {\n",
              "        text-align: right;\n",
              "    }\n",
              "</style>\n",
              "<table border=\"1\" class=\"dataframe\">\n",
              "  <thead>\n",
              "    <tr style=\"text-align: right;\">\n",
              "      <th></th>\n",
              "      <th>duration_minutes</th>\n",
              "      <th>duration_seasons</th>\n",
              "      <th>type</th>\n",
              "      <th>title</th>\n",
              "      <th>date_added</th>\n",
              "      <th>release_year</th>\n",
              "      <th>rating</th>\n",
              "      <th>description</th>\n",
              "      <th>show_id</th>\n",
              "      <th>director</th>\n",
              "      <th>country</th>\n",
              "      <th>cast</th>\n",
              "      <th>listed_in</th>\n",
              "    </tr>\n",
              "  </thead>\n",
              "  <tbody>\n",
              "    <tr>\n",
              "      <th>0</th>\n",
              "      <td>90</td>\n",
              "      <td>NaN</td>\n",
              "      <td>Movie</td>\n",
              "      <td>Norm of the North: King Sized Adventure</td>\n",
              "      <td>2019-09-09 00:00:00</td>\n",
              "      <td>2019.0</td>\n",
              "      <td>TV-PG</td>\n",
              "      <td>Before planning an awesome wedding for his gra...</td>\n",
              "      <td>81145628.0</td>\n",
              "      <td>Richard Finn</td>\n",
              "      <td>United States</td>\n",
              "      <td>Alan Marriott</td>\n",
              "      <td>Children &amp; Family Movies</td>\n",
              "    </tr>\n",
              "    <tr>\n",
              "      <th>1</th>\n",
              "      <td>90</td>\n",
              "      <td>NaN</td>\n",
              "      <td>Movie</td>\n",
              "      <td>Norm of the North: King Sized Adventure</td>\n",
              "      <td>2019-09-09 00:00:00</td>\n",
              "      <td>2019.0</td>\n",
              "      <td>TV-PG</td>\n",
              "      <td>Before planning an awesome wedding for his gra...</td>\n",
              "      <td>81145628.0</td>\n",
              "      <td>Richard Finn</td>\n",
              "      <td>United States</td>\n",
              "      <td>Alan Marriott</td>\n",
              "      <td>Comedies</td>\n",
              "    </tr>\n",
              "    <tr>\n",
              "      <th>2</th>\n",
              "      <td>90</td>\n",
              "      <td>NaN</td>\n",
              "      <td>Movie</td>\n",
              "      <td>Norm of the North: King Sized Adventure</td>\n",
              "      <td>2019-09-09 00:00:00</td>\n",
              "      <td>2019.0</td>\n",
              "      <td>TV-PG</td>\n",
              "      <td>Before planning an awesome wedding for his gra...</td>\n",
              "      <td>81145628.0</td>\n",
              "      <td>Richard Finn</td>\n",
              "      <td>United States</td>\n",
              "      <td>Jennifer Cameron</td>\n",
              "      <td>Children &amp; Family Movies</td>\n",
              "    </tr>\n",
              "    <tr>\n",
              "      <th>3</th>\n",
              "      <td>90</td>\n",
              "      <td>NaN</td>\n",
              "      <td>Movie</td>\n",
              "      <td>Norm of the North: King Sized Adventure</td>\n",
              "      <td>2019-09-09 00:00:00</td>\n",
              "      <td>2019.0</td>\n",
              "      <td>TV-PG</td>\n",
              "      <td>Before planning an awesome wedding for his gra...</td>\n",
              "      <td>81145628.0</td>\n",
              "      <td>Richard Finn</td>\n",
              "      <td>United States</td>\n",
              "      <td>Jennifer Cameron</td>\n",
              "      <td>Comedies</td>\n",
              "    </tr>\n",
              "    <tr>\n",
              "      <th>4</th>\n",
              "      <td>90</td>\n",
              "      <td>NaN</td>\n",
              "      <td>Movie</td>\n",
              "      <td>Norm of the North: King Sized Adventure</td>\n",
              "      <td>2019-09-09 00:00:00</td>\n",
              "      <td>2019.0</td>\n",
              "      <td>TV-PG</td>\n",
              "      <td>Before planning an awesome wedding for his gra...</td>\n",
              "      <td>81145628.0</td>\n",
              "      <td>Richard Finn</td>\n",
              "      <td>United States</td>\n",
              "      <td>Lee Tockar</td>\n",
              "      <td>Children &amp; Family Movies</td>\n",
              "    </tr>\n",
              "  </tbody>\n",
              "</table>\n",
              "</div>\n",
              "    <div class=\"colab-df-buttons\">\n",
              "\n",
              "  <div class=\"colab-df-container\">\n",
              "    <button class=\"colab-df-convert\" onclick=\"convertToInteractive('df-b83fd8d7-c518-4c11-9850-6291660ad25b')\"\n",
              "            title=\"Convert this dataframe to an interactive table.\"\n",
              "            style=\"display:none;\">\n",
              "\n",
              "  <svg xmlns=\"http://www.w3.org/2000/svg\" height=\"24px\" viewBox=\"0 -960 960 960\">\n",
              "    <path d=\"M120-120v-720h720v720H120Zm60-500h600v-160H180v160Zm220 220h160v-160H400v160Zm0 220h160v-160H400v160ZM180-400h160v-160H180v160Zm440 0h160v-160H620v160ZM180-180h160v-160H180v160Zm440 0h160v-160H620v160Z\"/>\n",
              "  </svg>\n",
              "    </button>\n",
              "\n",
              "  <style>\n",
              "    .colab-df-container {\n",
              "      display:flex;\n",
              "      gap: 12px;\n",
              "    }\n",
              "\n",
              "    .colab-df-convert {\n",
              "      background-color: #E8F0FE;\n",
              "      border: none;\n",
              "      border-radius: 50%;\n",
              "      cursor: pointer;\n",
              "      display: none;\n",
              "      fill: #1967D2;\n",
              "      height: 32px;\n",
              "      padding: 0 0 0 0;\n",
              "      width: 32px;\n",
              "    }\n",
              "\n",
              "    .colab-df-convert:hover {\n",
              "      background-color: #E2EBFA;\n",
              "      box-shadow: 0px 1px 2px rgba(60, 64, 67, 0.3), 0px 1px 3px 1px rgba(60, 64, 67, 0.15);\n",
              "      fill: #174EA6;\n",
              "    }\n",
              "\n",
              "    .colab-df-buttons div {\n",
              "      margin-bottom: 4px;\n",
              "    }\n",
              "\n",
              "    [theme=dark] .colab-df-convert {\n",
              "      background-color: #3B4455;\n",
              "      fill: #D2E3FC;\n",
              "    }\n",
              "\n",
              "    [theme=dark] .colab-df-convert:hover {\n",
              "      background-color: #434B5C;\n",
              "      box-shadow: 0px 1px 3px 1px rgba(0, 0, 0, 0.15);\n",
              "      filter: drop-shadow(0px 1px 2px rgba(0, 0, 0, 0.3));\n",
              "      fill: #FFFFFF;\n",
              "    }\n",
              "  </style>\n",
              "\n",
              "    <script>\n",
              "      const buttonEl =\n",
              "        document.querySelector('#df-b83fd8d7-c518-4c11-9850-6291660ad25b button.colab-df-convert');\n",
              "      buttonEl.style.display =\n",
              "        google.colab.kernel.accessAllowed ? 'block' : 'none';\n",
              "\n",
              "      async function convertToInteractive(key) {\n",
              "        const element = document.querySelector('#df-b83fd8d7-c518-4c11-9850-6291660ad25b');\n",
              "        const dataTable =\n",
              "          await google.colab.kernel.invokeFunction('convertToInteractive',\n",
              "                                                    [key], {});\n",
              "        if (!dataTable) return;\n",
              "\n",
              "        const docLinkHtml = 'Like what you see? Visit the ' +\n",
              "          '<a target=\"_blank\" href=https://colab.research.google.com/notebooks/data_table.ipynb>data table notebook</a>'\n",
              "          + ' to learn more about interactive tables.';\n",
              "        element.innerHTML = '';\n",
              "        dataTable['output_type'] = 'display_data';\n",
              "        await google.colab.output.renderOutput(dataTable, element);\n",
              "        const docLink = document.createElement('div');\n",
              "        docLink.innerHTML = docLinkHtml;\n",
              "        element.appendChild(docLink);\n",
              "      }\n",
              "    </script>\n",
              "  </div>\n",
              "\n",
              "\n",
              "    <div id=\"df-c939352a-23d0-440e-857b-96add2401113\">\n",
              "      <button class=\"colab-df-quickchart\" onclick=\"quickchart('df-c939352a-23d0-440e-857b-96add2401113')\"\n",
              "                title=\"Suggest charts\"\n",
              "                style=\"display:none;\">\n",
              "\n",
              "<svg xmlns=\"http://www.w3.org/2000/svg\" height=\"24px\"viewBox=\"0 0 24 24\"\n",
              "     width=\"24px\">\n",
              "    <g>\n",
              "        <path d=\"M19 3H5c-1.1 0-2 .9-2 2v14c0 1.1.9 2 2 2h14c1.1 0 2-.9 2-2V5c0-1.1-.9-2-2-2zM9 17H7v-7h2v7zm4 0h-2V7h2v10zm4 0h-2v-4h2v4z\"/>\n",
              "    </g>\n",
              "</svg>\n",
              "      </button>\n",
              "\n",
              "<style>\n",
              "  .colab-df-quickchart {\n",
              "      --bg-color: #E8F0FE;\n",
              "      --fill-color: #1967D2;\n",
              "      --hover-bg-color: #E2EBFA;\n",
              "      --hover-fill-color: #174EA6;\n",
              "      --disabled-fill-color: #AAA;\n",
              "      --disabled-bg-color: #DDD;\n",
              "  }\n",
              "\n",
              "  [theme=dark] .colab-df-quickchart {\n",
              "      --bg-color: #3B4455;\n",
              "      --fill-color: #D2E3FC;\n",
              "      --hover-bg-color: #434B5C;\n",
              "      --hover-fill-color: #FFFFFF;\n",
              "      --disabled-bg-color: #3B4455;\n",
              "      --disabled-fill-color: #666;\n",
              "  }\n",
              "\n",
              "  .colab-df-quickchart {\n",
              "    background-color: var(--bg-color);\n",
              "    border: none;\n",
              "    border-radius: 50%;\n",
              "    cursor: pointer;\n",
              "    display: none;\n",
              "    fill: var(--fill-color);\n",
              "    height: 32px;\n",
              "    padding: 0;\n",
              "    width: 32px;\n",
              "  }\n",
              "\n",
              "  .colab-df-quickchart:hover {\n",
              "    background-color: var(--hover-bg-color);\n",
              "    box-shadow: 0 1px 2px rgba(60, 64, 67, 0.3), 0 1px 3px 1px rgba(60, 64, 67, 0.15);\n",
              "    fill: var(--button-hover-fill-color);\n",
              "  }\n",
              "\n",
              "  .colab-df-quickchart-complete:disabled,\n",
              "  .colab-df-quickchart-complete:disabled:hover {\n",
              "    background-color: var(--disabled-bg-color);\n",
              "    fill: var(--disabled-fill-color);\n",
              "    box-shadow: none;\n",
              "  }\n",
              "\n",
              "  .colab-df-spinner {\n",
              "    border: 2px solid var(--fill-color);\n",
              "    border-color: transparent;\n",
              "    border-bottom-color: var(--fill-color);\n",
              "    animation:\n",
              "      spin 1s steps(1) infinite;\n",
              "  }\n",
              "\n",
              "  @keyframes spin {\n",
              "    0% {\n",
              "      border-color: transparent;\n",
              "      border-bottom-color: var(--fill-color);\n",
              "      border-left-color: var(--fill-color);\n",
              "    }\n",
              "    20% {\n",
              "      border-color: transparent;\n",
              "      border-left-color: var(--fill-color);\n",
              "      border-top-color: var(--fill-color);\n",
              "    }\n",
              "    30% {\n",
              "      border-color: transparent;\n",
              "      border-left-color: var(--fill-color);\n",
              "      border-top-color: var(--fill-color);\n",
              "      border-right-color: var(--fill-color);\n",
              "    }\n",
              "    40% {\n",
              "      border-color: transparent;\n",
              "      border-right-color: var(--fill-color);\n",
              "      border-top-color: var(--fill-color);\n",
              "    }\n",
              "    60% {\n",
              "      border-color: transparent;\n",
              "      border-right-color: var(--fill-color);\n",
              "    }\n",
              "    80% {\n",
              "      border-color: transparent;\n",
              "      border-right-color: var(--fill-color);\n",
              "      border-bottom-color: var(--fill-color);\n",
              "    }\n",
              "    90% {\n",
              "      border-color: transparent;\n",
              "      border-bottom-color: var(--fill-color);\n",
              "    }\n",
              "  }\n",
              "</style>\n",
              "\n",
              "      <script>\n",
              "        async function quickchart(key) {\n",
              "          const quickchartButtonEl =\n",
              "            document.querySelector('#' + key + ' button');\n",
              "          quickchartButtonEl.disabled = true;  // To prevent multiple clicks.\n",
              "          quickchartButtonEl.classList.add('colab-df-spinner');\n",
              "          try {\n",
              "            const charts = await google.colab.kernel.invokeFunction(\n",
              "                'suggestCharts', [key], {});\n",
              "          } catch (error) {\n",
              "            console.error('Error during call to suggestCharts:', error);\n",
              "          }\n",
              "          quickchartButtonEl.classList.remove('colab-df-spinner');\n",
              "          quickchartButtonEl.classList.add('colab-df-quickchart-complete');\n",
              "        }\n",
              "        (() => {\n",
              "          let quickchartButtonEl =\n",
              "            document.querySelector('#df-c939352a-23d0-440e-857b-96add2401113 button');\n",
              "          quickchartButtonEl.style.display =\n",
              "            google.colab.kernel.accessAllowed ? 'block' : 'none';\n",
              "        })();\n",
              "      </script>\n",
              "    </div>\n",
              "\n",
              "    </div>\n",
              "  </div>\n"
            ],
            "application/vnd.google.colaboratory.intrinsic+json": {
              "type": "dataframe",
              "variable_name": "df_master"
            }
          },
          "metadata": {},
          "execution_count": 15
        }
      ]
    },
    {
      "cell_type": "markdown",
      "source": [
        "Analytical Question Answer : When merging netflix_titles file with other sheets like netflix_titles_cast,netflix_titles_directions etc. we use left join.\n",
        "Here left join is the most appropriate choice because it guarantees that all titles in the official Netflix catalog are retained, while enriching each title with whatever additional information is available from the other datasets."
      ],
      "metadata": {
        "id": "DMtWxwBWLBxT"
      }
    },
    {
      "cell_type": "code",
      "source": [
        "df_master.info()"
      ],
      "metadata": {
        "colab": {
          "base_uri": "https://localhost:8080/"
        },
        "id": "fgTmFVSDMROz",
        "outputId": "c80f14bc-4aea-4348-d7dc-f8477cc17e31"
      },
      "execution_count": 16,
      "outputs": [
        {
          "output_type": "stream",
          "name": "stdout",
          "text": [
            "<class 'pandas.core.frame.DataFrame'>\n",
            "RangeIndex: 139946 entries, 0 to 139945\n",
            "Data columns (total 13 columns):\n",
            " #   Column            Non-Null Count   Dtype  \n",
            "---  ------            --------------   -----  \n",
            " 0   duration_minutes  98561 non-null   object \n",
            " 1   duration_seasons  41387 non-null   object \n",
            " 2   type              139945 non-null  object \n",
            " 3   title             139945 non-null  object \n",
            " 4   date_added        139785 non-null  object \n",
            " 5   release_year      139944 non-null  float64\n",
            " 6   rating            139870 non-null  object \n",
            " 7   description       139943 non-null  object \n",
            " 8   show_id           139942 non-null  float64\n",
            " 9   director          101031 non-null  object \n",
            " 10  country           134152 non-null  object \n",
            " 11  cast              138456 non-null  object \n",
            " 12  listed_in         139942 non-null  object \n",
            "dtypes: float64(2), object(11)\n",
            "memory usage: 13.9+ MB\n"
          ]
        }
      ]
    },
    {
      "cell_type": "code",
      "source": [
        "df_master.isnull().sum()"
      ],
      "metadata": {
        "colab": {
          "base_uri": "https://localhost:8080/",
          "height": 492
        },
        "collapsed": true,
        "id": "7oTHvGWCOdmC",
        "outputId": "99a99d53-dc61-4352-913d-845e71edb7e0"
      },
      "execution_count": 18,
      "outputs": [
        {
          "output_type": "execute_result",
          "data": {
            "text/plain": [
              "duration_minutes    41385\n",
              "duration_seasons    98559\n",
              "type                    1\n",
              "title                   1\n",
              "date_added            162\n",
              "release_year            2\n",
              "rating                 76\n",
              "description             3\n",
              "show_id                 4\n",
              "director            38915\n",
              "country              5794\n",
              "cast                 1490\n",
              "listed_in               4\n",
              "dtype: int64"
            ],
            "text/html": [
              "<div>\n",
              "<style scoped>\n",
              "    .dataframe tbody tr th:only-of-type {\n",
              "        vertical-align: middle;\n",
              "    }\n",
              "\n",
              "    .dataframe tbody tr th {\n",
              "        vertical-align: top;\n",
              "    }\n",
              "\n",
              "    .dataframe thead th {\n",
              "        text-align: right;\n",
              "    }\n",
              "</style>\n",
              "<table border=\"1\" class=\"dataframe\">\n",
              "  <thead>\n",
              "    <tr style=\"text-align: right;\">\n",
              "      <th></th>\n",
              "      <th>0</th>\n",
              "    </tr>\n",
              "  </thead>\n",
              "  <tbody>\n",
              "    <tr>\n",
              "      <th>duration_minutes</th>\n",
              "      <td>41385</td>\n",
              "    </tr>\n",
              "    <tr>\n",
              "      <th>duration_seasons</th>\n",
              "      <td>98559</td>\n",
              "    </tr>\n",
              "    <tr>\n",
              "      <th>type</th>\n",
              "      <td>1</td>\n",
              "    </tr>\n",
              "    <tr>\n",
              "      <th>title</th>\n",
              "      <td>1</td>\n",
              "    </tr>\n",
              "    <tr>\n",
              "      <th>date_added</th>\n",
              "      <td>162</td>\n",
              "    </tr>\n",
              "    <tr>\n",
              "      <th>release_year</th>\n",
              "      <td>2</td>\n",
              "    </tr>\n",
              "    <tr>\n",
              "      <th>rating</th>\n",
              "      <td>76</td>\n",
              "    </tr>\n",
              "    <tr>\n",
              "      <th>description</th>\n",
              "      <td>3</td>\n",
              "    </tr>\n",
              "    <tr>\n",
              "      <th>show_id</th>\n",
              "      <td>4</td>\n",
              "    </tr>\n",
              "    <tr>\n",
              "      <th>director</th>\n",
              "      <td>38915</td>\n",
              "    </tr>\n",
              "    <tr>\n",
              "      <th>country</th>\n",
              "      <td>5794</td>\n",
              "    </tr>\n",
              "    <tr>\n",
              "      <th>cast</th>\n",
              "      <td>1490</td>\n",
              "    </tr>\n",
              "    <tr>\n",
              "      <th>listed_in</th>\n",
              "      <td>4</td>\n",
              "    </tr>\n",
              "  </tbody>\n",
              "</table>\n",
              "</div><br><label><b>dtype:</b> int64</label>"
            ]
          },
          "metadata": {},
          "execution_count": 18
        }
      ]
    },
    {
      "cell_type": "code",
      "source": [
        "df_master['date_added'] = pd.to_datetime(df_master['date_added'], errors='coerce')"
      ],
      "metadata": {
        "id": "4YCIyOtbN67K"
      },
      "execution_count": 19,
      "outputs": []
    },
    {
      "cell_type": "code",
      "source": [
        "df_master['director'] = df_master['director'].fillna('Unknown')\n",
        "df_master['country'] = df_master['country'].fillna('Unknown')\n"
      ],
      "metadata": {
        "id": "VXxwKdTROWlS"
      },
      "execution_count": 20,
      "outputs": []
    },
    {
      "cell_type": "code",
      "source": [
        "df_master['year_added'] = df_master['date_added'].dt.year"
      ],
      "metadata": {
        "id": "SFP9D1-mO0sJ"
      },
      "execution_count": 21,
      "outputs": []
    },
    {
      "cell_type": "code",
      "source": [
        "print(df_master[['date_added', 'year_added', 'director', 'country']].head())"
      ],
      "metadata": {
        "colab": {
          "base_uri": "https://localhost:8080/"
        },
        "id": "xLc-5uylO4qa",
        "outputId": "4b84d563-dd74-4241-dca9-38fabab714c9"
      },
      "execution_count": 22,
      "outputs": [
        {
          "output_type": "stream",
          "name": "stdout",
          "text": [
            "  date_added  year_added      director        country\n",
            "0 2019-09-09      2019.0  Richard Finn  United States\n",
            "1 2019-09-09      2019.0  Richard Finn  United States\n",
            "2 2019-09-09      2019.0  Richard Finn  United States\n",
            "3 2019-09-09      2019.0  Richard Finn  United States\n",
            "4 2019-09-09      2019.0  Richard Finn  United States\n"
          ]
        }
      ]
    },
    {
      "cell_type": "markdown",
      "source": [
        "Analytical Question Answer : In the combined dataset, missing values in the country column were filled with the placeholder Unknown rather than dropping those rows or attempting imputation.\n",
        "Filling missing country values with Unknown retains the most information and allows for robust and transparent analysis."
      ],
      "metadata": {
        "id": "g4zPbnQ8PKGx"
      }
    },
    {
      "cell_type": "code",
      "source": [
        "df_master['listed_in'] = df_master['listed_in'].str.split(',')"
      ],
      "metadata": {
        "id": "McGR1BqpPJ1h"
      },
      "execution_count": 23,
      "outputs": []
    },
    {
      "cell_type": "code",
      "source": [
        "df_master['listed_in'] = df_master['listed_in'].apply(lambda x: [i.strip() for i in x] if isinstance(x, list) else x)"
      ],
      "metadata": {
        "id": "l-7dmnDrQ0eS"
      },
      "execution_count": 24,
      "outputs": []
    },
    {
      "cell_type": "code",
      "source": [
        "df_exploded = df_master.explode('listed_in')\n"
      ],
      "metadata": {
        "id": "CKY1eZKzQ61S"
      },
      "execution_count": 25,
      "outputs": []
    },
    {
      "cell_type": "code",
      "source": [
        "print(df_exploded[['show_id', 'title', 'listed_in']].head())"
      ],
      "metadata": {
        "colab": {
          "base_uri": "https://localhost:8080/"
        },
        "id": "uXckZchZRAFZ",
        "outputId": "3ae0c862-9713-4f18-dd24-191fd935e797"
      },
      "execution_count": 26,
      "outputs": [
        {
          "output_type": "stream",
          "name": "stdout",
          "text": [
            "      show_id                                    title  \\\n",
            "0  81145628.0  Norm of the North: King Sized Adventure   \n",
            "1  81145628.0  Norm of the North: King Sized Adventure   \n",
            "2  81145628.0  Norm of the North: King Sized Adventure   \n",
            "3  81145628.0  Norm of the North: King Sized Adventure   \n",
            "4  81145628.0  Norm of the North: King Sized Adventure   \n",
            "\n",
            "                  listed_in  \n",
            "0  Children & Family Movies  \n",
            "1                  Comedies  \n",
            "2  Children & Family Movies  \n",
            "3                  Comedies  \n",
            "4  Children & Family Movies  \n"
          ]
        }
      ]
    },
    {
      "cell_type": "markdown",
      "source": [
        "Analytical Question Answer : Bussiness advantage of transforming the data this way-By transforming the listed_in (category) column so that each category for a show gets its own row, we unlock significant analytical capabilities that were not feasible with the original comma-separated format.\n",
        "Exploding the category column provides a normalized structure that supports more flexible, precise, and actionable business insights."
      ],
      "metadata": {
        "id": "oosVnR3ZRhga"
      }
    },
    {
      "cell_type": "code",
      "source": [
        "import matplotlib.pyplot as plt\n",
        "top_genres = df_exploded['listed_in'].value_counts().head(10)\n",
        "plt.figure(figsize=(10,6))\n",
        "top_genres.plot(kind='bar', color='skyblue')\n",
        "plt.title('Top 10 Most Frequent Genres on Netflix')\n",
        "plt.xlabel('Genre')\n",
        "plt.ylabel('Number of Titles')\n",
        "plt.xticks(rotation=45, ha='right')\n",
        "plt.tight_layout()\n",
        "plt.show()"
      ],
      "metadata": {
        "colab": {
          "base_uri": "https://localhost:8080/",
          "height": 607
        },
        "id": "X1vAVT9sS9NJ",
        "outputId": "d0612630-ee66-44c9-dc6b-5c62a726226f"
      },
      "execution_count": 27,
      "outputs": [
        {
          "output_type": "display_data",
          "data": {
            "text/plain": [
              "<Figure size 1000x600 with 1 Axes>"
            ],
            "image/png": "[encoded data removed]"
          },
          "metadata": {}
        }
      ]
    },
    {
      "cell_type": "markdown",
      "source": [
        "Analytical Question Answer : The bar chart reveals that the 'Dramas' genre has the highest number of titles on Netflix, surpassing all other categories. This indicates that Netflix places a strong emphasis on drama content, likely because dramas appeal to a broad audience and drive significant viewer engagement across diverse markets."
      ],
      "metadata": {
        "id": "NLE_w2e9TM8S"
      }
    },
    {
      "cell_type": "code",
      "source": [
        "df_master.to_csv('netflix_cleaned.csv', index=False)"
      ],
      "metadata": {
        "id": "SW1qM4GDWfey"
      },
      "execution_count": 29,
      "outputs": []
    }
  ]
}